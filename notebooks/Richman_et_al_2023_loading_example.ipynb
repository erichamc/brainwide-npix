{
 "cells": [
  {
   "cell_type": "code",
   "execution_count": 1,
   "metadata": {},
   "outputs": [],
   "source": [
    "%load_ext autoreload\n",
    "%autoreload 2"
   ]
  },
  {
   "cell_type": "code",
   "execution_count": 2,
   "metadata": {},
   "outputs": [],
   "source": [
    "import numpy as np\n",
    "import matplotlib.pyplot as plt\n",
    "import os\n",
    "import sys\n",
    "\n",
    "# until this repository is distributed as a package:\n",
    "sys.path.append('/path/to/src/brainwide-npix/bwnpix/')\n",
    "sys.path.append('/path/to/src/brainwide-npix/')\n",
    "\n",
    "from bwnpix import load\n",
    "from bwnpix import anatomy\n",
    "from bwnpix.multiprobe import *"
   ]
  },
  {
   "cell_type": "code",
   "execution_count": 3,
   "metadata": {},
   "outputs": [],
   "source": [
    "exported_data = \"/path/to/exported/data/data_export/recording_only/mE1.npz\"\n",
    "metrics_keys = [\n",
    "    'cluster_id',\n",
    "    'Amplitude',\n",
    "    'ContamPct',\n",
    "    'KSLabel',\n",
    "    'PT_ratio',\n",
    "    'amp',\n",
    "    'amplitude',\n",
    "    'amplitude_cutoff',\n",
    "    'ch',\n",
    "    'contam_rate',\n",
    "    'cumulative_drift',\n",
    "    'd_prime',\n",
    "    'depth',\n",
    "    'duration',\n",
    "    'epoch_name',\n",
    "    'epoch_name_quality_metrics',\n",
    "    'epoch_name_waveform_metrics',\n",
    "    'firing_rate',\n",
    "    'fr',\n",
    "    'group',\n",
    "    'halfwidth',\n",
    "    'isi_viol',\n",
    "    'isolation_distance',\n",
    "    'l_ratio',\n",
    "    'max_drift',\n",
    "    'n_spikes',\n",
    "    'nn_hit_rate',\n",
    "    'nn_miss_rate',\n",
    "    'num_viol',\n",
    "    'peak_channel',\n",
    "    'presence_ratio',\n",
    "    'recovery_slope',\n",
    "    'repolarization_slope',\n",
    "    'sh',\n",
    "    'silhouette_score',\n",
    "    'snr',\n",
    "    'spread',\n",
    "    'velocity_above',\n",
    "    'velocity_below',\n",
    "    'noise']"
   ]
  },
  {
   "cell_type": "code",
   "execution_count": 4,
   "metadata": {},
   "outputs": [],
   "source": [
    "data = MultiprobeEphysExperiment()\n",
    "data.load_units_from_ks(exported_data, metrics_keys=metrics_keys, qc=\"manual\")"
   ]
  },
  {
   "cell_type": "code",
   "execution_count": 5,
   "metadata": {},
   "outputs": [],
   "source": [
    "# Get the binned firing rates\n",
    "bin_t = 0.01 # 10ms bins\n",
    "smooth = 5 # 50 ms smoothing window\n",
    "fr, bins = data.firing_rates_over_recording(bin_size=bin_t, smooth_size=smooth)"
   ]
  }
 ],
 "metadata": {
  "kernelspec": {
   "display_name": "Python 3 (ipykernel)",
   "language": "python",
   "name": "python3"
  },
  "language_info": {
   "codemirror_mode": {
    "name": "ipython",
    "version": 3
   },
   "file_extension": ".py",
   "mimetype": "text/x-python",
   "name": "python",
   "nbconvert_exporter": "python",
   "pygments_lexer": "ipython3",
   "version": "3.10.8"
  }
 },
 "nbformat": 4,
 "nbformat_minor": 2
}
