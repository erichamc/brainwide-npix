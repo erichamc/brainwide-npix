{
 "cells": [
  {
   "cell_type": "code",
   "execution_count": null,
   "metadata": {},
   "outputs": [],
   "source": [
    "%load_ext autoreload\n",
    "%autoreload 2"
   ]
  },
  {
   "cell_type": "code",
   "execution_count": null,
   "metadata": {},
   "outputs": [],
   "source": [
    "import numpy as np\n",
    "import matplotlib.pyplot as plt\n",
    "import os\n",
    "import sys\n",
    "from scipy.stats import zscore\n",
    "\n",
    "# until this repository is distributed as a package:\n",
    "sys.path.append(\"/path/to/src/brainwide-npix/\")\n",
    "\n",
    "from bwnpix import load\n",
    "from bwnpix import anatomy\n",
    "from bwnpix.multiprobe import *"
   ]
  },
  {
   "cell_type": "code",
   "execution_count": null,
   "metadata": {},
   "outputs": [],
   "source": [
    "datasets = [\n",
    "    [\"mousename1\", \"20220601\", \"/path/to/recording/data/m94/catgt_mousename1_20220601_g0\"],   \n",
    "]"
   ]
  },
  {
   "cell_type": "code",
   "execution_count": null,
   "metadata": {},
   "outputs": [],
   "source": [
    "%%time\n",
    "use_cache = False # Set to true after this has been run once\n",
    "\n",
    "all_data = []\n",
    "paths = []\n",
    "tract_names = [\"OFC\", \"Thal\", \"MO\", \"npix_tract1\"] # tract name for easy reference\n",
    "for dataset in datasets:\n",
    "    pathname = f'/path/to/data/cache/export/{dataset[:2]}.pkl'\n",
    "    paths.append(pathname)\n",
    "    if not use_cache:\n",
    "        # if using bombcell for unit quality, set qc='bombcell', otherwise 'ks'\n",
    "        mpd = load.MultiprobeData(dataset[0],dataset[1], qc='bombcell')\n",
    "        for j in range(4): # add 4 probes\n",
    "            mpd.add_experiment(os.path.join(dataset[2], f\"{dataset[0]}_{dataset[1]}_g0_imec{j}\",f\"imec{j}_ks2\"), tract_names[j])\n",
    "        mpd.combine_experiments()\n",
    "        event_map = {\"XA_1\": \"session\", \"XA_2\": \"trial\", \"XA_3\": \"stim\"} # map of names of events\n",
    "        mpd.add_events(dataset[2], event_map)\n",
    "        mpd.save_data(pathname)"
   ]
  },
  {
   "cell_type": "code",
   "execution_count": null,
   "metadata": {},
   "outputs": [],
   "source": [
    "%%time # Takes about 30-60s\n",
    "# Load AIBS atlas to use for histology\n",
    "atlas = anatomy.AIBSAtlas()"
   ]
  },
  {
   "cell_type": "code",
   "execution_count": null,
   "metadata": {},
   "outputs": [],
   "source": [
    "%%time\n",
    "\n",
    "data = MultiprobeEphysExperiment() # or subclass name for loading behavior / other events\n",
    "# load eye closure data\n",
    "data.load_units_from_ks(paths[0], load_lfp=False) # Set load_lfp to True for lfp data in addition to spike data\n",
    "data._mouse_name = \"mousename1\"; data._recording = \"mousename1_20220601\"\n",
    "data.load_histology(atlas)"
   ]
  },
  {
   "cell_type": "code",
   "execution_count": null,
   "metadata": {},
   "outputs": [],
   "source": [
    "%%time\n",
    "bin_t = 0.01\n",
    "fr, bins = data.firing_rates_over_recording(bin_size=bin_t, smooth_size=10)\n",
    "zfr = zscore(fr,1)"
   ]
  },
  {
   "cell_type": "code",
   "execution_count": null,
   "metadata": {},
   "outputs": [],
   "source": [
    "# Get brain region plotting variables\n",
    "\n",
    "areas_cbar, areas_cm = data.get_area_colorbar(data.get_brain_areas(info='id'))\n",
    "area_names = data.get_brain_areas(info='acronym', level='bottom')\n",
    "# plot brain regions with plt.imshow(areas_cbar, aspect='auto', cmap=areas_cm)\n",
    "\n",
    "# equivalent functionality for LFP data\n",
    "\n",
    "#lfp_areas = data.get_brain_areas(mask=False, info='id', locs=data.get_locs_for_lfp())\n",
    "#lfp_cbar, lfp_cm = data.get_area_colorbar(lfp_areas)"
   ]
  }
 ],
 "metadata": {
  "kernelspec": {
   "display_name": "Python 3",
   "language": "python",
   "name": "python3"
  },
  "language_info": {
   "codemirror_mode": {
    "name": "ipython",
    "version": 3
   },
   "file_extension": ".py",
   "mimetype": "text/x-python",
   "name": "python",
   "nbconvert_exporter": "python",
   "pygments_lexer": "ipython3",
   "version": "3.7.2"
  }
 },
 "nbformat": 4,
 "nbformat_minor": 2
}
